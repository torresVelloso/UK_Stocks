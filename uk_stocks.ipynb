{
 "cells": [
  {
   "cell_type": "code",
   "execution_count": 1,
   "id": "d4cb4a27-5f52-4936-ae68-7f43300bb6bc",
   "metadata": {},
   "outputs": [],
   "source": [
    "import pandas as pd\n",
    "#!pip install yfinance\n",
    "import yfinance as yf\n",
    "import numpy as np\n",
    "import math \n",
    "import warnings\n",
    "warnings.filterwarnings(\"ignore\", category=FutureWarning, module=\"yfinance\")"
   ]
  },
  {
   "cell_type": "code",
   "execution_count": 2,
   "id": "27001b3e-3adb-4604-8454-878ed6959d17",
   "metadata": {},
   "outputs": [
    {
     "name": "stdout",
     "output_type": "stream",
     "text": [
      "b\n",
      "['ICGC.L']\n",
      "['ICGC.L', 'BAKK.L']\n",
      "['ICGC.L', 'BAKK.L', 'WIL.L']\n",
      "['ICGC.L', 'BAKK.L', 'WIL.L', 'CGL.L']\n",
      "['ICGC.L', 'BAKK.L', 'WIL.L', 'CGL.L', 'GTE.L']\n",
      "['ICGC.L', 'BAKK.L', 'WIL.L', 'CGL.L', 'GTE.L', 'JZCP.L']\n",
      "['ICGC.L', 'BAKK.L', 'WIL.L', 'CGL.L', 'GTE.L', 'JZCP.L', 'CGS.L']\n",
      "['ICGC.L', 'BAKK.L', 'WIL.L', 'CGL.L', 'GTE.L', 'JZCP.L', 'CGS.L', 'LBG.L']\n",
      "['ICGC.L', 'BAKK.L', 'WIL.L', 'CGL.L', 'GTE.L', 'JZCP.L', 'CGS.L', 'LBG.L', 'HEAD.L']\n",
      "['ICGC.L', 'BAKK.L', 'WIL.L', 'CGL.L', 'GTE.L', 'JZCP.L', 'CGS.L', 'LBG.L', 'HEAD.L', 'CAM.L']\n",
      "['ICGC.L', 'BAKK.L', 'WIL.L', 'CGL.L', 'GTE.L', 'JZCP.L', 'CGS.L', 'LBG.L', 'HEAD.L', 'CAM.L', 'GR1T.L']\n",
      "['ICGC.L', 'BAKK.L', 'WIL.L', 'CGL.L', 'GTE.L', 'JZCP.L', 'CGS.L', 'LBG.L', 'HEAD.L', 'CAM.L', 'GR1T.L', 'TPT.L']\n",
      "['ICGC.L', 'BAKK.L', 'WIL.L', 'CGL.L', 'GTE.L', 'JZCP.L', 'CGS.L', 'LBG.L', 'HEAD.L', 'CAM.L', 'GR1T.L', 'TPT.L', 'MCON.L']\n",
      "['ICGC.L', 'BAKK.L', 'WIL.L', 'CGL.L', 'GTE.L', 'JZCP.L', 'CGS.L', 'LBG.L', 'HEAD.L', 'CAM.L', 'GR1T.L', 'TPT.L', 'MCON.L', 'CAU.L']\n",
      "['ICGC.L', 'BAKK.L', 'WIL.L', 'CGL.L', 'GTE.L', 'JZCP.L', 'CGS.L', 'LBG.L', 'HEAD.L', 'CAM.L', 'GR1T.L', 'TPT.L', 'MCON.L', 'CAU.L', 'SBSI.L']\n",
      "['ICGC.L', 'BAKK.L', 'WIL.L', 'CGL.L', 'GTE.L', 'JZCP.L', 'CGS.L', 'LBG.L', 'HEAD.L', 'CAM.L', 'GR1T.L', 'TPT.L', 'MCON.L', 'CAU.L', 'SBSI.L', 'AOM.L']\n",
      "['ICGC.L', 'BAKK.L', 'WIL.L', 'CGL.L', 'GTE.L', 'JZCP.L', 'CGS.L', 'LBG.L', 'HEAD.L', 'CAM.L', 'GR1T.L', 'TPT.L', 'MCON.L', 'CAU.L', 'SBSI.L', 'AOM.L', 'HSD.L']\n",
      "['ICGC.L', 'BAKK.L', 'WIL.L', 'CGL.L', 'GTE.L', 'JZCP.L', 'CGS.L', 'LBG.L', 'HEAD.L', 'CAM.L', 'GR1T.L', 'TPT.L', 'MCON.L', 'CAU.L', 'SBSI.L', 'AOM.L', 'HSD.L', 'DWHT.L']\n",
      "['ICGC.L', 'BAKK.L', 'WIL.L', 'CGL.L', 'GTE.L', 'JZCP.L', 'CGS.L', 'LBG.L', 'HEAD.L', 'CAM.L', 'GR1T.L', 'TPT.L', 'MCON.L', 'CAU.L', 'SBSI.L', 'AOM.L', 'HSD.L', 'DWHT.L', 'SMJ.L']\n",
      "['ICGC.L', 'BAKK.L', 'WIL.L', 'CGL.L', 'GTE.L', 'JZCP.L', 'CGS.L', 'LBG.L', 'HEAD.L', 'CAM.L', 'GR1T.L', 'TPT.L', 'MCON.L', 'CAU.L', 'SBSI.L', 'AOM.L', 'HSD.L', 'DWHT.L', 'SMJ.L', 'OPG.L']\n",
      "['ICGC.L', 'BAKK.L', 'WIL.L', 'CGL.L', 'GTE.L', 'JZCP.L', 'CGS.L', 'LBG.L', 'HEAD.L', 'CAM.L', 'GR1T.L', 'TPT.L', 'MCON.L', 'CAU.L', 'SBSI.L', 'AOM.L', 'HSD.L', 'DWHT.L', 'SMJ.L', 'OPG.L', 'JGC.L']\n",
      "['ICGC.L', 'BAKK.L', 'WIL.L', 'CGL.L', 'GTE.L', 'JZCP.L', 'CGS.L', 'LBG.L', 'HEAD.L', 'CAM.L', 'GR1T.L', 'TPT.L', 'MCON.L', 'CAU.L', 'SBSI.L', 'AOM.L', 'HSD.L', 'DWHT.L', 'SMJ.L', 'OPG.L', 'JGC.L', 'BBSN.L']\n",
      "['ICGC.L', 'BAKK.L', 'WIL.L', 'CGL.L', 'GTE.L', 'JZCP.L', 'CGS.L', 'LBG.L', 'HEAD.L', 'CAM.L', 'GR1T.L', 'TPT.L', 'MCON.L', 'CAU.L', 'SBSI.L', 'AOM.L', 'HSD.L', 'DWHT.L', 'SMJ.L', 'OPG.L', 'JGC.L', 'BBSN.L', 'VLE.L']\n",
      "['ICGC.L', 'BAKK.L', 'WIL.L', 'CGL.L', 'GTE.L', 'JZCP.L', 'CGS.L', 'LBG.L', 'HEAD.L', 'CAM.L', 'GR1T.L', 'TPT.L', 'MCON.L', 'CAU.L', 'SBSI.L', 'AOM.L', 'HSD.L', 'DWHT.L', 'SMJ.L', 'OPG.L', 'JGC.L', 'BBSN.L', 'VLE.L', 'KP2.L']\n",
      "['ICGC.L', 'BAKK.L', 'WIL.L', 'CGL.L', 'GTE.L', 'JZCP.L', 'CGS.L', 'LBG.L', 'HEAD.L', 'CAM.L', 'GR1T.L', 'TPT.L', 'MCON.L', 'CAU.L', 'SBSI.L', 'AOM.L', 'HSD.L', 'DWHT.L', 'SMJ.L', 'OPG.L', 'JGC.L', 'BBSN.L', 'VLE.L', 'KP2.L', 'BBB.L']\n",
      "['ICGC.L', 'BAKK.L', 'WIL.L', 'CGL.L', 'GTE.L', 'JZCP.L', 'CGS.L', 'LBG.L', 'HEAD.L', 'CAM.L', 'GR1T.L', 'TPT.L', 'MCON.L', 'CAU.L', 'SBSI.L', 'AOM.L', 'HSD.L', 'DWHT.L', 'SMJ.L', 'OPG.L', 'JGC.L', 'BBSN.L', 'VLE.L', 'KP2.L', 'BBB.L', 'INSG.L']\n",
      "['ICGC.L', 'BAKK.L', 'WIL.L', 'CGL.L', 'GTE.L', 'JZCP.L', 'CGS.L', 'LBG.L', 'HEAD.L', 'CAM.L', 'GR1T.L', 'TPT.L', 'MCON.L', 'CAU.L', 'SBSI.L', 'AOM.L', 'HSD.L', 'DWHT.L', 'SMJ.L', 'OPG.L', 'JGC.L', 'BBSN.L', 'VLE.L', 'KP2.L', 'BBB.L', 'INSG.L', 'LFI.L']\n",
      "['ICGC.L', 'BAKK.L', 'WIL.L', 'CGL.L', 'GTE.L', 'JZCP.L', 'CGS.L', 'LBG.L', 'HEAD.L', 'CAM.L', 'GR1T.L', 'TPT.L', 'MCON.L', 'CAU.L', 'SBSI.L', 'AOM.L', 'HSD.L', 'DWHT.L', 'SMJ.L', 'OPG.L', 'JGC.L', 'BBSN.L', 'VLE.L', 'KP2.L', 'BBB.L', 'INSG.L', 'LFI.L', 'CNN.L']\n",
      "['ICGC.L', 'BAKK.L', 'WIL.L', 'CGL.L', 'GTE.L', 'JZCP.L', 'CGS.L', 'LBG.L', 'HEAD.L', 'CAM.L', 'GR1T.L', 'TPT.L', 'MCON.L', 'CAU.L', 'SBSI.L', 'AOM.L', 'HSD.L', 'DWHT.L', 'SMJ.L', 'OPG.L', 'JGC.L', 'BBSN.L', 'VLE.L', 'KP2.L', 'BBB.L', 'INSG.L', 'LFI.L', 'CNN.L', 'CFYN.L']\n",
      "['ICGC.L', 'BAKK.L', 'WIL.L', 'CGL.L', 'GTE.L', 'JZCP.L', 'CGS.L', 'LBG.L', 'HEAD.L', 'CAM.L', 'GR1T.L', 'TPT.L', 'MCON.L', 'CAU.L', 'SBSI.L', 'AOM.L', 'HSD.L', 'DWHT.L', 'SMJ.L', 'OPG.L', 'JGC.L', 'BBSN.L', 'VLE.L', 'KP2.L', 'BBB.L', 'INSG.L', 'LFI.L', 'CNN.L', 'CFYN.L', 'CODE.L']\n",
      "['ICGC.L', 'BAKK.L', 'WIL.L', 'CGL.L', 'GTE.L', 'JZCP.L', 'CGS.L', 'LBG.L', 'HEAD.L', 'CAM.L', 'GR1T.L', 'TPT.L', 'MCON.L', 'CAU.L', 'SBSI.L', 'AOM.L', 'HSD.L', 'DWHT.L', 'SMJ.L', 'OPG.L', 'JGC.L', 'BBSN.L', 'VLE.L', 'KP2.L', 'BBB.L', 'INSG.L', 'LFI.L', 'CNN.L', 'CFYN.L', 'CODE.L', 'GV2O.L']\n",
      "['ICGC.L', 'BAKK.L', 'WIL.L', 'CGL.L', 'GTE.L', 'JZCP.L', 'CGS.L', 'LBG.L', 'HEAD.L', 'CAM.L', 'GR1T.L', 'TPT.L', 'MCON.L', 'CAU.L', 'SBSI.L', 'AOM.L', 'HSD.L', 'DWHT.L', 'SMJ.L', 'OPG.L', 'JGC.L', 'BBSN.L', 'VLE.L', 'KP2.L', 'BBB.L', 'INSG.L', 'LFI.L', 'CNN.L', 'CFYN.L', 'CODE.L', 'GV2O.L', 'CLA.L']\n",
      "['ICGC.L', 'BAKK.L', 'WIL.L', 'CGL.L', 'GTE.L', 'JZCP.L', 'CGS.L', 'LBG.L', 'HEAD.L', 'CAM.L', 'GR1T.L', 'TPT.L', 'MCON.L', 'CAU.L', 'SBSI.L', 'AOM.L', 'HSD.L', 'DWHT.L', 'SMJ.L', 'OPG.L', 'JGC.L', 'BBSN.L', 'VLE.L', 'KP2.L', 'BBB.L', 'INSG.L', 'LFI.L', 'CNN.L', 'CFYN.L', 'CODE.L', 'GV2O.L', 'CLA.L', 'CORA.L']\n",
      "['ICGC.L', 'BAKK.L', 'WIL.L', 'CGL.L', 'GTE.L', 'JZCP.L', 'CGS.L', 'LBG.L', 'HEAD.L', 'CAM.L', 'GR1T.L', 'TPT.L', 'MCON.L', 'CAU.L', 'SBSI.L', 'AOM.L', 'HSD.L', 'DWHT.L', 'SMJ.L', 'OPG.L', 'JGC.L', 'BBSN.L', 'VLE.L', 'KP2.L', 'BBB.L', 'INSG.L', 'LFI.L', 'CNN.L', 'CFYN.L', 'CODE.L', 'GV2O.L', 'CLA.L', 'CORA.L', 'LLAI.L']\n",
      "['ICGC.L', 'BAKK.L', 'WIL.L', 'CGL.L', 'GTE.L', 'JZCP.L', 'CGS.L', 'LBG.L', 'HEAD.L', 'CAM.L', 'GR1T.L', 'TPT.L', 'MCON.L', 'CAU.L', 'SBSI.L', 'AOM.L', 'HSD.L', 'DWHT.L', 'SMJ.L', 'OPG.L', 'JGC.L', 'BBSN.L', 'VLE.L', 'KP2.L', 'BBB.L', 'INSG.L', 'LFI.L', 'CNN.L', 'CFYN.L', 'CODE.L', 'GV2O.L', 'CLA.L', 'CORA.L', 'LLAI.L', 'FMET.L']\n"
     ]
    }
   ],
   "source": [
    "# Reads from CSV file\n",
    "df = pd.read_csv('TICK_UK.csv')\n",
    "# Adds .L (UK Market) at the end of the Tick so yfinance can find the stock  \n",
    "df = df['TICK'] + \".L\"\n",
    "# Creats list with stocks tickers\n",
    "stocks = df.tolist()\n",
    "high_volume = []\n",
    "# Remove Tickers without data\n",
    "stocks.remove('BT.A.L')\n",
    "stocks.remove('MAC2.L')\n",
    "print('entrando no loop...')\n",
    "for stock in stocks:\n",
    "    # Creats Ticker object\n",
    "    info = yf.Ticker(stock).history(period='1y')\n",
    "    # Calculates average volume (last year) and volume (last day)\n",
    "    avg_volume = np.mean(info['Volume'])\n",
    "    volume_last_day = info['Volume'].iloc[-1]  \n",
    "    \n",
    "    # Appends stock to list if volume of last day is greater than 10 times average volume\n",
    "    if volume_last_day > 10*avg_volume:\n",
    "       high_volume.append(stock)\n",
    "\n",
    "# prints stocks that have high volume\n",
    "print(high_volume)  \n"
   ]
  },
  {
   "cell_type": "code",
   "execution_count": 3,
   "id": "a1f3bc50-2753-4266-9677-dd7224d15a6f",
   "metadata": {},
   "outputs": [
    {
     "name": "stdout",
     "output_type": "stream",
     "text": [
      "['ICGC.L', 'BAKK.L', 'WIL.L', 'CGL.L', 'GTE.L', 'JZCP.L', 'CGS.L', 'LBG.L', 'HEAD.L', 'CAM.L', 'GR1T.L', 'TPT.L', 'MCON.L', 'CAU.L', 'SBSI.L', 'AOM.L', 'HSD.L', 'DWHT.L', 'SMJ.L', 'OPG.L', 'JGC.L', 'BBSN.L', 'VLE.L', 'KP2.L', 'BBB.L', 'INSG.L', 'LFI.L', 'CNN.L', 'CFYN.L', 'CODE.L', 'GV2O.L', 'CLA.L', 'CORA.L', 'LLAI.L', 'FMET.L']\n"
     ]
    }
   ],
   "source": [
    " print(high_volume) \n"
   ]
  },
  {
   "cell_type": "code",
   "execution_count": null,
   "id": "680a1f3e-2a2b-46db-aa16-c778702f4316",
   "metadata": {},
   "outputs": [],
   "source": []
  }
 ],
 "metadata": {
  "kernelspec": {
   "display_name": "Python 3 (ipykernel)",
   "language": "python",
   "name": "python3"
  },
  "language_info": {
   "codemirror_mode": {
    "name": "ipython",
    "version": 3
   },
   "file_extension": ".py",
   "mimetype": "text/x-python",
   "name": "python",
   "nbconvert_exporter": "python",
   "pygments_lexer": "ipython3",
   "version": "3.12.2"
  }
 },
 "nbformat": 4,
 "nbformat_minor": 5
}
